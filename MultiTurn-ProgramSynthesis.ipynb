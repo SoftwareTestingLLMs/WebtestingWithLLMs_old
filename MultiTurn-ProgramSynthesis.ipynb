{
 "cells": [
  {
   "cell_type": "markdown",
   "id": "cae5bdca-148c-40ba-bcce-f27f013bf3ab",
   "metadata": {},
   "source": [
    "### Multi Turn Program Synthesis\n",
    "\n",
    "- Use Dropdown to select the model and device, click the button to load it\n",
    "    - This can take some time depending on the model size"
   ]
  },
  {
   "cell_type": "code",
   "execution_count": null,
   "id": "c05fecdb-984f-434d-b740-01ff512bb8bc",
   "metadata": {
    "tags": []
   },
   "outputs": [],
   "source": [
    "import ipywidgets as widgets\n",
    "from ipywidgets import Button, HBox, VBox\n",
    "from IPython.display import display, clear_output\n",
    "\n",
    "import torch\n",
    "from transformers import AutoTokenizer, AutoModelForCausalLM\n"
   ]
  },
  {
   "cell_type": "code",
   "execution_count": null,
   "id": "8e366379-9b56-4f5b-9690-9560d6bb0ea9",
   "metadata": {
    "tags": []
   },
   "outputs": [],
   "source": [
    "def load_model(model_name, device, precision):\n",
    "    _dtype = torch.float16 if precision == \"float16\" else torch.float32\n",
    "    \n",
    "    assert ((precision == \"float16\" and \"cuda\" in device) or precision != \"float16\"), (\n",
    "        \"'float16' is only supported when using the GPU\")\n",
    "    \n",
    "    tokenizer = AutoTokenizer.from_pretrained(model_name)\n",
    "    model = AutoModelForCausalLM.from_pretrained(model_name, torch_dtype=_dtype).to(device)\n",
    "    \n",
    "    tokenizer.pad_token = 50256\n",
    "\n",
    "    return tokenizer, model"
   ]
  },
  {
   "cell_type": "code",
   "execution_count": null,
   "id": "08554d0c-f84b-40ff-a444-411debc79162",
   "metadata": {
    "tags": []
   },
   "outputs": [],
   "source": [
    "def truncate(completion):\n",
    "    import re\n",
    "    \n",
    "    def find_re(string, pattern, start_pos):\n",
    "        m = pattern.search(string, start_pos)\n",
    "        return m.start() if m else -1\n",
    "\n",
    "    terminals = [re.compile(r, re.MULTILINE) for r in ['^#', re.escape('<|endoftext|>'), \"^'''\", '^\"\"\"', '\\n\\n\\n']]\n",
    "\n",
    "    prints = list(re.finditer('^print', completion, re.MULTILINE))\n",
    "    if len(prints) > 1:\n",
    "        completion = completion[:prints[1].start()]\n",
    "\n",
    "    defs = list(re.finditer('^def', completion, re.MULTILINE))\n",
    "    if len(defs) > 1:\n",
    "        completion = completion[:defs[1].start()]\n",
    "\n",
    "    start_pos = 0\n",
    "\n",
    "    terminals_pos = [pos for pos in [find_re(completion, terminal, start_pos) for terminal in terminals] if pos != -1]\n",
    "    if len(terminals_pos) > 0:\n",
    "        return completion[:min(terminals_pos)]\n",
    "    else:\n",
    "        return completion   "
   ]
  },
  {
   "cell_type": "code",
   "execution_count": null,
   "id": "39798c25-8238-4185-a7eb-e189e2b02f7c",
   "metadata": {
    "tags": []
   },
   "outputs": [],
   "source": [
    "def generate(prompt, tokenizer, model, device):\n",
    "    input_ids = tokenizer(prompt, truncation=True, padding=True, return_tensors=\"pt\").input_ids.to(device)\n",
    "    input_ids_len = input_ids.shape[1]\n",
    "    \n",
    "    generated_ids = model.generate(input_ids, do_sample=True, num_return_sequences=1, temperature=0.2, max_new_tokens=256, top_p=0.95, pad_token_id=50256, use_cache=True)\n",
    "    \n",
    "    # decoded_generation = tokenizer.decode(generated_ids[0][input_ids.shape[1]:].to(\"cpu\"), skip_special_tokens=True)\n",
    "    decoded_generation = tokenizer.batch_decode(generated_ids[:, input_ids_len:])\n",
    "    \n",
    "    return decoded_generation"
   ]
  },
  {
   "cell_type": "code",
   "execution_count": null,
   "id": "3f5a5223-0cc8-4460-a9ef-b8bc12276a76",
   "metadata": {
    "tags": []
   },
   "outputs": [],
   "source": [
    "tokenizer, model, device, precision = None, None, None, None\n",
    "\n",
    "model_chooser = widgets.Dropdown(\n",
    "    options=[\"Salesforce/codegen-350M-mono\", \"Salesforce/codegen-2B-mono\", \"Salesforce/codegen-6B-mono\", \"Salesforce/codegen-16B-mono\"],\n",
    "    value=\"Salesforce/codegen-350M-mono\",\n",
    "    description='Model:',\n",
    "    disabled=False\n",
    ")\n",
    "\n",
    "precision_chooser = widgets.Dropdown(\n",
    "    options=[\"float32\", \"float16\"],\n",
    "    value=\"float16\",\n",
    "    description='Precision:',\n",
    "    disabled=False\n",
    ")\n",
    "\n",
    "device_chooser = widgets.Dropdown(\n",
    "    options=[\"cpu\", \"cuda:0\"],\n",
    "    value=\"cuda:0\",\n",
    "    description='Device:',\n",
    "    disabled=False\n",
    ")\n",
    "\n",
    "model_button = widgets.Button(\n",
    "    description=\"Load Model\",\n",
    "    disabled=False,\n",
    "    tooltip=\"Loads the model, selected in the dropdown\"\n",
    ")\n",
    "\n",
    "chooser_output = widgets.Output()\n",
    "\n",
    "def on_model_button_clicked(b):\n",
    "    global tokenizer, model, device, precision\n",
    "\n",
    "    model_name = model_chooser.value\n",
    "    device = device_chooser.value\n",
    "    precision = precision_chooser.value\n",
    "    \n",
    "    with chooser_output:\n",
    "        clear_output()\n",
    "        print(f\"Loading model {model_name}\")\n",
    "        tokenizer, model = load_model(model_name, device, precision)\n",
    "        print(\"Loading finished\")\n",
    "\n",
    "\n",
    "model_button.on_click(on_model_button_clicked)\n",
    "\n",
    "        \n",
    "chooser_layout = HBox([model_chooser, device_chooser, precision_chooser, model_button])\n",
    "chooser_layout_main = VBox([chooser_layout, chooser_output])\n",
    "\n",
    "display(chooser_layout_main)\n"
   ]
  },
  {
   "cell_type": "code",
   "execution_count": null,
   "id": "a858302a-41e2-476c-ad9e-fa1ab0049358",
   "metadata": {
    "tags": []
   },
   "outputs": [],
   "source": [
    "text_area = widgets.Textarea(\n",
    "    value='Hello World',\n",
    "    placeholder='Type something',\n",
    "    description='String:',\n",
    "    disabled=False\n",
    ")\n",
    "\n",
    "button = widgets.Button(\n",
    "    description='Click me',\n",
    "    disabled=False,\n",
    "    button_style='', # 'success', 'info', 'warning', 'danger' or ''\n",
    "    tooltip='Click me'\n",
    ")\n",
    "\n",
    "output = widgets.Output()\n",
    "\n",
    "layout = HBox([text_area, button])\n",
    "layout_main = VBox([layout, output])\n",
    "\n",
    "# multi_turn = True\n",
    "\n",
    "_wrap = lambda prompt: f\"# {prompt}\\n\"\n",
    "\n",
    "# histories = [\"# Import libraries.\\n\\nimport numpy as np\\n\\n\"]\n",
    "histories = [\"# Import libraries.\\n\\nimport numpy as np\\n\\n\"]\n",
    "prompt_count = 0\n",
    "\n",
    "def on_button_clicked(b):\n",
    "    with output:\n",
    "        print(\"Generating...\")\n",
    "    \n",
    "    global histories, prompt_count\n",
    "    current_input = text_area.value\n",
    "    \n",
    "    histories = [h + _wrap(current_input) for h in histories]\n",
    "    completions = generate(histories, tokenizer, model, device)\n",
    "    histories = [h + f\"{truncate(c)}\\n\\n\" for h, c in zip(histories, completions)]\n",
    "    \n",
    "    with output:      \n",
    "        print(\"-\" * 10)\n",
    "        print(prompt_count)\n",
    "        print(\"-\" * 10)\n",
    "        print(histories[0])\n",
    "        print(\"-\" * 10)\n",
    "        \n",
    "    prompt_count += 1\n",
    "\n",
    "\n",
    "button.on_click(on_button_clicked)\n",
    "\n",
    "display(layout_main)"
   ]
  }
 ],
 "metadata": {
  "kernelspec": {
   "display_name": "Python 3 (ipykernel)",
   "language": "python",
   "name": "python3"
  },
  "language_info": {
   "codemirror_mode": {
    "name": "ipython",
    "version": 3
   },
   "file_extension": ".py",
   "mimetype": "text/x-python",
   "name": "python",
   "nbconvert_exporter": "python",
   "pygments_lexer": "ipython3",
   "version": "3.8.16"
  }
 },
 "nbformat": 4,
 "nbformat_minor": 5
}
