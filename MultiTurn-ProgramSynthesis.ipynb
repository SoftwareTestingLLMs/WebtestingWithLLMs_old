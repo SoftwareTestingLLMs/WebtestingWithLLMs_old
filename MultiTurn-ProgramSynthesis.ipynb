{
 "cells": [
  {
   "cell_type": "markdown",
   "id": "cae5bdca-148c-40ba-bcce-f27f013bf3ab",
   "metadata": {
    "tags": []
   },
   "source": [
    "### Multi Turn Program Synthesis\n",
    "\n",
    "- Use Dropdown to select the model and device, click the button to load it\n",
    "    - This can take some time depending on the model size"
   ]
  },
  {
   "cell_type": "code",
   "execution_count": null,
   "id": "c05fecdb-984f-434d-b740-01ff512bb8bc",
   "metadata": {
    "tags": []
   },
   "outputs": [],
   "source": [
    "import ipywidgets as widgets\n",
    "from ipywidgets import Button, HBox, VBox\n",
    "from IPython.display import display, clear_output\n",
    "\n",
    "from tools.hf_model_utils import load_model, truncate, generate"
   ]
  },
  {
   "cell_type": "code",
   "execution_count": null,
   "id": "3f5a5223-0cc8-4460-a9ef-b8bc12276a76",
   "metadata": {
    "tags": []
   },
   "outputs": [],
   "source": [
    "tokenizer, model, model_name, device, precision = None, None, None, None, None\n",
    "\n",
    "model_chooser = widgets.Dropdown(\n",
    "    options=[\"Salesforce/codegen-350M-mono\", \"Salesforce/codegen-2B-mono\", \"Salesforce/codegen-6B-mono\", \"Salesforce/codegen-16B-mono\"],\n",
    "    value=\"Salesforce/codegen-350M-mono\",\n",
    "    description='Model:',\n",
    "    disabled=False\n",
    ")\n",
    "\n",
    "precision_chooser = widgets.Dropdown(\n",
    "    options=[\"float32\", \"float16\"],\n",
    "    value=\"float16\",\n",
    "    description='Precision:',\n",
    "    disabled=False\n",
    ")\n",
    "\n",
    "device_chooser = widgets.Dropdown(\n",
    "    options=[\"cpu\", \"cuda:0\"],\n",
    "    value=\"cuda:0\",\n",
    "    description='Device:',\n",
    "    disabled=False\n",
    ")\n",
    "\n",
    "model_button = widgets.Button(\n",
    "    description=\"Load Model\",\n",
    "    disabled=False,\n",
    "    tooltip=\"Loads the model, selected in the dropdown\"\n",
    ")\n",
    "\n",
    "chooser_output = widgets.Output()\n",
    "\n",
    "def on_model_button_clicked(b):\n",
    "    global tokenizer, model, device, precision, model_name\n",
    "\n",
    "    model_name = model_chooser.value\n",
    "    device = device_chooser.value\n",
    "    precision = precision_chooser.value\n",
    "    \n",
    "    with chooser_output:\n",
    "        clear_output()\n",
    "        print(f\"Loading model {model_name}\")\n",
    "        tokenizer, model = load_model(model_name, device, precision)\n",
    "        print(\"Loading finished\")\n",
    "\n",
    "\n",
    "model_button.on_click(on_model_button_clicked)\n",
    "\n",
    "        \n",
    "chooser_layout = HBox([model_chooser, device_chooser, precision_chooser, model_button])\n",
    "chooser_layout_main = VBox([chooser_layout, chooser_output])\n",
    "\n",
    "display(chooser_layout_main)\n"
   ]
  },
  {
   "cell_type": "code",
   "execution_count": null,
   "id": "a858302a-41e2-476c-ad9e-fa1ab0049358",
   "metadata": {
    "tags": []
   },
   "outputs": [],
   "source": [
    "text_area = widgets.Textarea(\n",
    "    value='Hello World',\n",
    "    placeholder='Type something',\n",
    "    description='String:',\n",
    "    disabled=False\n",
    ")\n",
    "\n",
    "button = widgets.Button(\n",
    "    description='Click me',\n",
    "    disabled=False,\n",
    "    button_style='', # 'success', 'info', 'warning', 'danger' or ''\n",
    "    tooltip='Click me'\n",
    ")\n",
    "\n",
    "output = widgets.Output()\n",
    "\n",
    "layout = HBox([text_area, button])\n",
    "layout_main = VBox([layout, output])\n",
    "\n",
    "# multi_turn = True\n",
    "\n",
    "_wrap = lambda prompt: f\"# {prompt}\\n\"\n",
    "\n",
    "# histories = [\"# Import libraries.\\n\\nimport numpy as np\\n\\n\"]\n",
    "histories = [\"# Import libraries.\\n\\nimport numpy as np\\n\\n\"]\n",
    "prompt_count = 0\n",
    "\n",
    "def on_button_clicked(b):\n",
    "    with output:\n",
    "        print(\"Generating...\")\n",
    "    \n",
    "    global histories, prompt_count\n",
    "    current_input = text_area.value\n",
    "    \n",
    "    histories = [h + _wrap(current_input) for h in histories]\n",
    "    completions = generate(histories, tokenizer, model, device)\n",
    "    histories = [h + f\"{truncate(c, model_name)}\\n\\n\" for h, c in zip(histories, completions)]\n",
    "    \n",
    "    with output:      \n",
    "        print(\"-\" * 10)\n",
    "        print(prompt_count)\n",
    "        print(\"-\" * 10)\n",
    "        print(histories[0])\n",
    "        print(\"-\" * 10)\n",
    "        \n",
    "    prompt_count += 1\n",
    "\n",
    "\n",
    "button.on_click(on_button_clicked)\n",
    "\n",
    "display(layout_main)"
   ]
  }
 ],
 "metadata": {
  "kernelspec": {
   "display_name": "Python 3 (ipykernel)",
   "language": "python",
   "name": "python3"
  },
  "language_info": {
   "codemirror_mode": {
    "name": "ipython",
    "version": 3
   },
   "file_extension": ".py",
   "mimetype": "text/x-python",
   "name": "python",
   "nbconvert_exporter": "python",
   "pygments_lexer": "ipython3",
   "version": "3.8.16"
  }
 },
 "nbformat": 4,
 "nbformat_minor": 5
}
